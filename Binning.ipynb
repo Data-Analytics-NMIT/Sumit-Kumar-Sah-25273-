{
 "cells": [
  {
   "cell_type": "code",
   "execution_count": 1,
   "metadata": {},
   "outputs": [
    {
     "name": "stdout",
     "output_type": "stream",
     "text": [
      "[ 9 97 10 57 55 82 64 44 98 82 38 71 64 15 80 40  6 12  8 81]\n"
     ]
    }
   ],
   "source": [
    "# #Binning\n",
    "import pandas as pd \n",
    "import numpy as np\n",
    "\n",
    "\n",
    "# Generate 20 random integers uniformly between 0 and 99 \n",
    "small_counts = np.random.randint(0, 100, 20)\n",
    "print(small_counts)"
   ]
  },
  {
   "cell_type": "code",
   "execution_count": 2,
   "metadata": {},
   "outputs": [
    {
     "name": "stdout",
     "output_type": "stream",
     "text": [
      "[0 9 1 5 5 8 6 4 9 8 3 7 6 1 8 4 0 1 0 8]\n"
     ]
    }
   ],
   "source": [
    "# Map to evenly spaced bins 0-9 by division \n",
    "print(np.floor_divide(small_counts, 10))\n"
   ]
  },
  {
   "cell_type": "code",
   "execution_count": 3,
   "metadata": {},
   "outputs": [],
   "source": [
    "large_counts = [296, 8286, 64011, 80, 3, 725, 867, 2215, 7689, 11495, 91897, 44, 28, 7971,\n",
    "926, 12]\n",
    "# print(np.floor(np.log10(large_counts)))\n",
    "#Map the counts to quartiles into 4 bins (quartile) "
   ]
  },
  {
   "cell_type": "code",
   "execution_count": 4,
   "metadata": {},
   "outputs": [
    {
     "name": "stdout",
     "output_type": "stream",
     "text": [
      "[1 3 3 1 0 1 1 2 2 3 3 0 0 2 2 0]\n",
      "0.25      71.00\n",
      "0.50     896.50\n",
      "0.75    8049.75\n",
      "dtype: float64\n"
     ]
    }
   ],
   "source": [
    "print(pd.qcut(large_counts, 4, labels=False))\n",
    "#convert large_counts into series data \n",
    "large_counts_series = pd.Series(large_counts)\n",
    "# print(large_counts_series) \n",
    "print(large_counts_series.quantile([0.25, 0.5, 0.75]))\n"
   ]
  },
  {
   "cell_type": "code",
   "execution_count": null,
   "metadata": {},
   "outputs": [],
   "source": []
  }
 ],
 "metadata": {
  "kernelspec": {
   "display_name": "Python 3",
   "language": "python",
   "name": "python3"
  },
  "language_info": {
   "codemirror_mode": {
    "name": "ipython",
    "version": 3
   },
   "file_extension": ".py",
   "mimetype": "text/x-python",
   "name": "python",
   "nbconvert_exporter": "python",
   "pygments_lexer": "ipython3",
   "version": "3.8.5"
  }
 },
 "nbformat": 4,
 "nbformat_minor": 4
}
