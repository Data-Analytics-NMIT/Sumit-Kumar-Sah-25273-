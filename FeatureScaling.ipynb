{
 "cells": [
  {
   "cell_type": "code",
   "execution_count": 1,
   "metadata": {},
   "outputs": [
    {
     "name": "stdout",
     "output_type": "stream",
     "text": [
      "   Country  Age  Salary Purchased\n",
      "0   France   44   72000        No\n",
      "1    Spain   27   48000       Yes\n",
      "2  Germany   30   54000        No\n",
      "3    Spain   38   61000        No\n",
      "4  Germany   40    1000       Yes\n",
      "\n",
      "Original data values : \n",
      " [[   44 72000]\n",
      " [   27 48000]\n",
      " [   30 54000]\n",
      " [   38 61000]\n",
      " [   40  1000]]\n",
      "\n",
      "After min max Scaling : \n",
      " [[1.         1.        ]\n",
      " [0.         0.66197183]\n",
      " [0.17647059 0.74647887]\n",
      " [0.64705882 0.84507042]\n",
      " [0.76470588 0.        ]]\n",
      "\n",
      "After Standardisation : \n",
      " [[ 1.29394853  1.01469054]\n",
      " [-1.38862769  0.03273195]\n",
      " [-0.91523188  0.2782216 ]\n",
      " [ 0.34715692  0.56462619]\n",
      " [ 0.66275412 -1.89027028]]\n"
     ]
    }
   ],
   "source": [
    "#FEATURE SCALING\n",
    "#Importing Libraries\n",
    "import pandas as pd\n",
    "# Sklearn library\n",
    "from sklearn import preprocessing #Import Data\n",
    "data_set = pd.read_csv('data.csv') \n",
    "print(data_set.head())\n",
    "# here Features - Age and Salary columns # are taken using slicing\n",
    "# to handle values with varying magnitude \n",
    "x = data_set.iloc[:, 1:3].values\n",
    "print (\"\\nOriginal data values : \\n\", x) #MIN MAX SCALER\n",
    "min_max_scaler = preprocessing.MinMaxScaler(feature_range =(0, 1)) # Scaled feature\n",
    "x_after_min_max_scaler = min_max_scaler.fit_transform(x)\n",
    "print (\"\\nAfter min max Scaling : \\n\", x_after_min_max_scaler)\n",
    "# STANDARDIZATION\n",
    "Standardisation = preprocessing.StandardScaler() # Scaled feature\n",
    "x_after_Standardisation = Standardisation.fit_transform(x) \n",
    "print (\"\\nAfter Standardisation : \\n\", x_after_Standardisation)\n"
   ]
  },
  {
   "cell_type": "code",
   "execution_count": null,
   "metadata": {},
   "outputs": [],
   "source": []
  }
 ],
 "metadata": {
  "kernelspec": {
   "display_name": "Python 3",
   "language": "python",
   "name": "python3"
  },
  "language_info": {
   "codemirror_mode": {
    "name": "ipython",
    "version": 3
   },
   "file_extension": ".py",
   "mimetype": "text/x-python",
   "name": "python",
   "nbconvert_exporter": "python",
   "pygments_lexer": "ipython3",
   "version": "3.8.5"
  }
 },
 "nbformat": 4,
 "nbformat_minor": 4
}
