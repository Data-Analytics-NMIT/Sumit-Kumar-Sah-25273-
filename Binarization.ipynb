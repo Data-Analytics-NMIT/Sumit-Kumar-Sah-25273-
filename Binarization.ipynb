{
 "cells": [
  {
   "cell_type": "code",
   "execution_count": 1,
   "metadata": {},
   "outputs": [
    {
     "name": "stdout",
     "output_type": "stream",
     "text": [
      "   Country  Age  Salary Purchased\n",
      "0   France   44   72000        No\n",
      "1    Spain   27   48000       Yes\n",
      "2  Germany   30   54000        No\n",
      "3    Spain   38   61000        No\n",
      "4  Germany   40    1000       Yes\n",
      "\n",
      " Original age data values :\n",
      " [44 27 30 38 40]\n",
      "\n",
      " Original salary data values :\n",
      " [72000 48000 54000 61000  1000]\n",
      "\n",
      " Binarized age : \n",
      " [[1 0 0 1 1]]\n",
      "\n",
      " Binarized salary : \n",
      " [[1 0 0 0 0]]\n"
     ]
    },
    {
     "name": "stderr",
     "output_type": "stream",
     "text": [
      "C:\\Users\\girish\\anaconda3\\lib\\site-packages\\sklearn\\utils\\validation.py:67: FutureWarning: Pass threshold=35 as keyword args. From version 0.25 passing these as positional arguments will result in an error\n",
      "  warnings.warn(\"Pass {} as keyword args. From version 0.25 \"\n",
      "C:\\Users\\girish\\anaconda3\\lib\\site-packages\\sklearn\\utils\\validation.py:67: FutureWarning: Pass threshold=61000 as keyword args. From version 0.25 passing these as positional arguments will result in an error\n",
      "  warnings.warn(\"Pass {} as keyword args. From version 0.25 \"\n"
     ]
    }
   ],
   "source": [
    "import pandas as pd\n",
    "\n",
    "data_set = pd.read_csv('data.csv')\n",
    "print(data_set.head())\n",
    "age = data_set.iloc[:,1].values\n",
    "salary=data_set.iloc[:,2].values\n",
    "print(\"\\n Original age data values :\\n\", age)\n",
    "print(\"\\n Original salary data values :\\n\", salary)\n",
    "\n",
    "\n",
    "#Binarizing values\n",
    "from sklearn.preprocessing import Binarizer\n",
    "x = age\n",
    "x = x.reshape(1, -1)\n",
    "y = salary\n",
    "y = y.reshape(1, -1)\n",
    "\n",
    "#for age, let threshold be 35, for salary, let threshold be 61000\n",
    "#age below 35 is binarized to 0\n",
    "binarizer_1 = Binarizer(35)\n",
    "#salary below 61000 is binarized to 0\n",
    "binarizer_2 = Binarizer(61000) \n",
    "\n",
    "\n",
    "#Transformed features\n",
    "print(\"\\n Binarized age : \\n\",binarizer_1.fit_transform(x))\n",
    "print(\"\\n Binarized salary : \\n\",binarizer_2.fit_transform(y))\n"
   ]
  },
  {
   "cell_type": "code",
   "execution_count": null,
   "metadata": {},
   "outputs": [],
   "source": []
  }
 ],
 "metadata": {
  "kernelspec": {
   "display_name": "Python 3",
   "language": "python",
   "name": "python3"
  },
  "language_info": {
   "codemirror_mode": {
    "name": "ipython",
    "version": 3
   },
   "file_extension": ".py",
   "mimetype": "text/x-python",
   "name": "python",
   "nbconvert_exporter": "python",
   "pygments_lexer": "ipython3",
   "version": "3.8.5"
  }
 },
 "nbformat": 4,
 "nbformat_minor": 4
}
